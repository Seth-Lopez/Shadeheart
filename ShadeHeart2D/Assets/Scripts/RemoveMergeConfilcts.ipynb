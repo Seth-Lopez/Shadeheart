{
 "cells": [
  {
   "cell_type": "code",
   "execution_count": 13,
   "metadata": {},
   "outputs": [
    {
     "name": "stdout",
     "output_type": "stream",
     "text": [
      "Filtered content is empty. No file will be written.\n"
     ]
    }
   ],
   "source": [
    "def read_unity_file(file_path):\n",
    "    try:\n",
    "        with open(file_path, 'r') as file:\n",
    "            lines = file.readlines()\n",
    "            return lines\n",
    "    except FileNotFoundError:\n",
    "        print(f\"File '{file_path}' not found.\")\n",
    "\n",
    "# Example usage\n",
    "file_path = \"C:\\\\Users\\\\sethl\\\\Downloads\\\\City.unity\"\n",
    "all_lines = read_unity_file(file_path)\n",
    "\n",
    "deleteUpdatedStream = False\n",
    "deleteStashedChanges = False\n",
    "\n",
    "filtered_lines = []\n",
    "if deleteUpdatedStream:\n",
    "    ignore_lines = False\n",
    "    for line in all_lines:\n",
    "        if line.startswith(\"<<<<<<< Updated upstream\"):\n",
    "            ignore_lines = True\n",
    "        elif line.startswith(\"=======\"):\n",
    "            ignore_lines = False\n",
    "        elif line.startswith(\">>>>>>> Stashed changes\"):\n",
    "            ignore_lines = False\n",
    "        elif not ignore_lines:\n",
    "            filtered_lines.append(line)\n",
    "\n",
    "if deleteStashedChanges:\n",
    "    ignore_lines = False\n",
    "    for line in all_lines:\n",
    "        if line.startswith(\"<<<<<<< Updated upstream\"):\n",
    "            ignore_lines = False\n",
    "        elif line.startswith(\"=======\"):\n",
    "            ignore_lines = True\n",
    "        elif line.startswith(\">>>>>>> Stashed changes\"):\n",
    "            ignore_lines = False\n",
    "        elif not ignore_lines:\n",
    "            filtered_lines.append(line)\n",
    "\n",
    "# Join the filtered lines back into a single string for display\n",
    "filtered_text = \"\\n\".join(filtered_lines)\n",
    "\n",
    "if filtered_text:\n",
    "    output_file_path = \"C:\\\\Users\\\\sethl\\\\Downloads\\\\FilteredCity.unity\"\n",
    "    with open(output_file_path, 'w') as file:\n",
    "        file.write(filtered_text)\n",
    "    print(f\"Filtered content written to '{output_file_path}' successfully.\")\n",
    "else:\n",
    "    print(\"Filtered content is empty. No file will be written.\")"
   ]
  }
 ],
 "metadata": {
  "kernelspec": {
   "display_name": "yahoo",
   "language": "python",
   "name": "python3"
  },
  "language_info": {
   "codemirror_mode": {
    "name": "ipython",
    "version": 3
   },
   "file_extension": ".py",
   "mimetype": "text/x-python",
   "name": "python",
   "nbconvert_exporter": "python",
   "pygments_lexer": "ipython3",
   "version": "3.9.15"
  }
 },
 "nbformat": 4,
 "nbformat_minor": 2
}
