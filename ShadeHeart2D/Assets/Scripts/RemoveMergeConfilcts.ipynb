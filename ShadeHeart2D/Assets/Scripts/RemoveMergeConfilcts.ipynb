{
 "cells": [
  {
   "cell_type": "code",
   "execution_count": 9,
   "metadata": {},
   "outputs": [
    {
     "name": "stdout",
     "output_type": "stream",
     "text": [
      "Filtered content written to 'c:\\Users\\sethl\\OneDrive\\Desktop\\CityCopy.txt' successfully.\n"
     ]
    }
   ],
   "source": [
    "import re\n",
    "\n",
    "def read_unity_file(file_path):\n",
    "    try:\n",
    "        with open(file_path, 'r') as file:\n",
    "            lines = file.readlines()\n",
    "            return lines\n",
    "    except FileNotFoundError:\n",
    "        print(f\"File '{file_path}' not found.\")\n",
    "\n",
    "# Example usage\n",
    "file_path = r'c:\\Users\\sethl\\OneDrive\\Desktop\\City.txt'\n",
    "all_lines = read_unity_file(file_path)\n",
    "\n",
    "filtered_lines = []\n",
    "ignore_lines = False\n",
    "for line in all_lines:\n",
    "    if line.startswith(\"<<<<<<< Updated upstream\") or line.startswith(\"<<<<<<< HEAD\"):\n",
    "        ignore_lines = False\n",
    "    elif line.startswith(\"=======\"):\n",
    "        ignore_lines = True\n",
    "    elif line.startswith(\">>>>>>> Stashed changes\") or line.startswith(\">>>>>>> Sofia-Gratny\"):\n",
    "        ignore_lines = False\n",
    "    elif not ignore_lines:\n",
    "        filtered_lines.append(line)\n",
    "\n",
    "# Join the filtered lines back into a single string for display\n",
    "filtered_text = \"\".join(filtered_lines)\n",
    "\n",
    "if filtered_text:\n",
    "    output_file_path = r'c:\\Users\\sethl\\OneDrive\\Desktop\\CityCopy.txt'\n",
    "    with open(output_file_path, 'w') as file:\n",
    "        file.write(filtered_text)\n",
    "    print(f\"Filtered content written to '{output_file_path}' successfully.\")\n",
    "else:\n",
    "    print(\"Filtered content is empty. No file will be written.\")"
   ]
  },
  {
   "cell_type": "code",
   "execution_count": 10,
   "metadata": {},
   "outputs": [
    {
     "name": "stdout",
     "output_type": "stream",
     "text": [
      "Filtered content written to 'c:\\Users\\sethl\\OneDrive\\Desktop\\CityCopy.txt' successfully.\n"
     ]
    }
   ],
   "source": [
    "import re\n",
    "\n",
    "def read_unity_file(file_path):\n",
    "    try:\n",
    "        with open(file_path, 'r') as file:\n",
    "            lines = file.readlines()\n",
    "            return lines\n",
    "    except FileNotFoundError:\n",
    "        print(f\"File '{file_path}' not found.\")\n",
    "\n",
    "# Example usage\n",
    "file_path = r'c:\\Users\\sethl\\OneDrive\\Desktop\\City.txt'\n",
    "all_lines = read_unity_file(file_path)\n",
    "\n",
    "filtered_lines = []\n",
    "ignore_lines = False\n",
    "for line in all_lines:\n",
    "    if line.startswith(\"<<<<<<< Updated upstream\") or line.startswith(\"<<<<<<< HEAD\"):\n",
    "        ignore_lines = True\n",
    "    elif line.startswith(\"=======\"):\n",
    "        ignore_lines = False\n",
    "    elif line.startswith(\">>>>>>> Stashed changes\") or line.startswith(\">>>>>>> Sofia-Gratny\"):\n",
    "        ignore_lines = False\n",
    "    elif not ignore_lines:\n",
    "        filtered_lines.append(line)\n",
    "\n",
    "# Join the filtered lines back into a single string for display\n",
    "filtered_text = \"\".join(filtered_lines)\n",
    "\n",
    "if filtered_text:\n",
    "    output_file_path = r'c:\\Users\\sethl\\OneDrive\\Desktop\\CityCopy.txt'\n",
    "    with open(output_file_path, 'w') as file:\n",
    "        file.write(filtered_text)\n",
    "    print(f\"Filtered content written to '{output_file_path}' successfully.\")\n",
    "else:\n",
    "    print(\"Filtered content is empty. No file will be written.\")"
   ]
  }
 ],
 "metadata": {
  "kernelspec": {
   "display_name": "yahoo",
   "language": "python",
   "name": "python3"
  },
  "language_info": {
   "codemirror_mode": {
    "name": "ipython",
    "version": 3
   },
   "file_extension": ".py",
   "mimetype": "text/x-python",
   "name": "python",
   "nbconvert_exporter": "python",
   "pygments_lexer": "ipython3",
   "version": "3.9.15"
  }
 },
 "nbformat": 4,
 "nbformat_minor": 2
}
